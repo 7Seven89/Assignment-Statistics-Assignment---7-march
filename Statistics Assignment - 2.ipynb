{
 "cells": [
  {
   "cell_type": "markdown",
   "id": "4981cb45-ab27-43a8-bdb7-d17dd310783d",
   "metadata": {},
   "source": []
  },
  {
   "cell_type": "markdown",
   "id": "b0ede0c2-5cae-4314-8896-f664df83338c",
   "metadata": {},
   "source": [
    "### Q1. What are the three measures of central tendency?\n",
    "\n",
    "The three measures of central tendency are:\n",
    "1. **Mean**\n",
    "2. **Median**\n",
    "3. **Mode**"
   ]
  },
  {
   "cell_type": "markdown",
   "id": "ed175758-891e-409c-8480-2e9711ce1df9",
   "metadata": {},
   "source": []
  },
  {
   "cell_type": "markdown",
   "id": "92269a7c-2891-4baf-8a40-8b0d6a4a9998",
   "metadata": {},
   "source": [
    "### Q2. What is the difference between the mean, median, and mode? How are they used to measure the central tendency of a dataset?\n",
    "\n",
    "**Mean**:\n",
    "- **Definition**: The average of all data points in a dataset.\n",
    "- **Calculation**: \\(\\text{Mean} = \\frac{\\sum{x}}{n}\\), where \\( \\sum{x} \\) is the sum of all data points and \\(n\\) is the number of data points.\n",
    "- **Usage**: Provides the central value of a dataset but can be influenced by extreme values (outliers).\n",
    "\n",
    "**Median**:\n",
    "- **Definition**: The middle value of a dataset when it is ordered from smallest to largest. If there is an even number of observations, the median is the average of the two middle values.\n",
    "- **Usage**: Represents the central value of the dataset without being affected by outliers.\n",
    "\n",
    "**Mode**:\n",
    "- **Definition**: The value that appears most frequently in a dataset.\n",
    "- **Usage**: Useful for identifying the most common value in categorical data or for numerical data with repeating values.\n",
    "\n",
    "**Summary**:\n",
    "- **Mean**: Average value, affected by outliers.\n",
    "- **Median**: Middle value, robust to outliers.\n",
    "- **Mode**: Most frequent value, can be used with categorical data."
   ]
  },
  {
   "cell_type": "markdown",
   "id": "38a68c46-6f3d-4349-8acb-bc29237f75db",
   "metadata": {},
   "source": []
  },
  {
   "cell_type": "markdown",
   "id": "54257bb1-f01b-4bb4-adf2-fadac24c4d05",
   "metadata": {},
   "source": [
    "### Q3. Measure the three measures of central tendency for the given height data:\n",
    "\n",
    "Data: [178, 177, 176, 177, 178.2, 178, 175, 179, 180, 175, 178.9, 176.2, 177, 172.5, 178, 176.5]\n",
    "\n",
    "- **Mean**: \n",
    "  \\[\n",
    "  \\text{Mean} = \\frac{178 + 177 + 176 + 177 + 178.2 + 178 + 175 + 179 + 180 + 175 + 178.9 + 176.2 + 177 + 172.5 + 178 + 176.5}{16} = \\frac{2837.8}{16} = 177.37\n",
    "  \\]\n",
    "\n",
    "- **Median**: \n",
    "  - Ordered Data: [172.5, 175, 175, 176, 176.2, 176.5, 177, 177, 177, 178, 178, 178, 178.2, 178.9, 179, 180]\n",
    "  - Middle values: 176.5 and 177\n",
    "  - Median: \\(\\frac{176.5 + 177}{2} = 176.75\\)\n",
    "\n",
    "- **Mode**: \n",
    "  - The value that appears most frequently is 177."
   ]
  },
  {
   "cell_type": "markdown",
   "id": "5b233e2a-e1f6-4db3-a391-f8170fa70b1e",
   "metadata": {},
   "source": []
  },
  {
   "cell_type": "markdown",
   "id": "120c015f-02a6-457f-931d-0648b5e4c3ce",
   "metadata": {},
   "source": [
    "### Q4. Find the standard deviation for the given data:\n",
    "\n",
    "Data: [178, 177, 176, 177, 178.2, 178, 175, 179, 180, 175, 178.9, 176.2, 177, 172.5, 178, 176.5]\n",
    "\n",
    "1. Calculate the mean: 177.37\n",
    "2. Compute the variance:\n",
    "   \\[\n",
    "   \\text{Variance} = \\frac{\\sum{(x - \\text{Mean})^2}}{n} = \\frac{(178 - 177.37)^2 + (177 - 177.37)^2 + \\ldots + (176.5 - 177.37)^2}{16}\n",
    "   \\]\n",
    "   Variance = 2.15\n",
    "\n",
    "3. Standard Deviation:\n",
    "   \\[\n",
    "   \\text{Standard Deviation} = \\sqrt{\\text{Variance}} = \\sqrt{2.15} = 1.47\n",
    "   \\]"
   ]
  },
  {
   "cell_type": "markdown",
   "id": "a831b62b-f776-46cc-9e12-d790b49d9b9d",
   "metadata": {},
   "source": []
  },
  {
   "cell_type": "markdown",
   "id": "6ffb9063-91e6-456e-80aa-2a566a649a27",
   "metadata": {},
   "source": [
    "### Q5. How are measures of dispersion such as range, variance, and standard deviation used to describe the spread of a dataset? Provide an example.\n",
    "\n",
    "**Range**:\n",
    "- **Definition**: The difference between the maximum and minimum values in a dataset.\n",
    "- **Usage**: Provides a basic measure of spread but can be affected by extreme values.\n",
    "- **Example**: For the dataset [10, 15, 20, 25, 30], the range is \\(30 - 10 = 20\\).\n",
    "\n",
    "**Variance**:\n",
    "- **Definition**: The average of the squared deviations from the mean.\n",
    "- **Usage**: Quantifies the overall spread of data points but is in squared units, which can be less intuitive.\n",
    "- **Example**: For the dataset [2, 4, 6], variance = 4.\n",
    "\n",
    "**Standard Deviation**:\n",
    "- **Definition**: The square root of the variance, providing a measure of spread in the same units as the data.\n",
    "- **Usage**: Offers a more interpretable measure of data dispersion.\n",
    "- **Example**: For the dataset [2, 4, 6], standard deviation = 2."
   ]
  },
  {
   "cell_type": "markdown",
   "id": "ef330491-c635-4617-802b-f42e1450090c",
   "metadata": {},
   "source": []
  },
  {
   "cell_type": "markdown",
   "id": "3d4abe4e-4a61-4f8b-ab4a-f5c187fd6d94",
   "metadata": {},
   "source": [
    "### Q6. What is a Venn diagram?\n",
    "\n",
    "A **Venn Diagram** is a visual representation of the relationships between different sets. It uses overlapping circles to show how sets intersect, share common elements, or are distinct from each other. Each circle represents a set, and the overlapping regions show the intersection of the sets."
   ]
  },
  {
   "cell_type": "code",
   "execution_count": null,
   "id": "b3db0b8b-caff-43a8-a252-4c5738051709",
   "metadata": {},
   "outputs": [],
   "source": []
  },
  {
   "cell_type": "markdown",
   "id": "50d651c8-fe81-4974-91da-404c03075462",
   "metadata": {},
   "source": [
    "### Q7. For the two given sets A = (2, 3, 4, 5, 6, 7) & B = (0, 2, 6, 8, 10). Find:\n",
    "\n",
    "**(i) A ∩ B** (Intersection of A and B):\n",
    "- **Result**: The common elements in both sets are {2, 6}.\n",
    "\n",
    "**(ii) A ∪ B** (Union of A and B):\n",
    "- **Result**: All unique elements in both sets are {0, 2, 3, 4, 5, 6, 7, 8, 10}."
   ]
  },
  {
   "cell_type": "markdown",
   "id": "2d3ddc32-bc6e-493f-a434-8f0c7834a5d3",
   "metadata": {},
   "source": []
  },
  {
   "cell_type": "markdown",
   "id": "64d7e1e6-a1b4-4fb8-b82d-0625df5de33b",
   "metadata": {},
   "source": [
    "### Q8. What do you understand about skewness in data?\n",
    "\n",
    "**Skewness** refers to the asymmetry of the distribution of data around its mean. It indicates whether the data distribution leans more to the left (negative skew) or right (positive skew) of the mean.\n",
    "\n",
    "- **Positive Skew**: Tail on the right side is longer or fatter; mean > median.\n",
    "- **Negative Skew**: Tail on the left side is longer or fatter; mean < median."
   ]
  },
  {
   "cell_type": "markdown",
   "id": "17cf41ae-adb9-4126-a626-08c496daceeb",
   "metadata": {},
   "source": []
  },
  {
   "cell_type": "markdown",
   "id": "59a8e389-e86a-447a-b3a6-483cca0aa61e",
   "metadata": {},
   "source": [
    "### Q9. If a data is right skewed then what will be the position of median with respect to mean?\n",
    "\n",
    "In a right-skewed distribution, the mean is typically greater than the median. This is because the mean is pulled in the direction of the longer right tail, while the median remains closer to the center of the distribution."
   ]
  },
  {
   "cell_type": "markdown",
   "id": "3ff96485-4196-4ef3-9123-db8c05f377ec",
   "metadata": {},
   "source": []
  },
  {
   "cell_type": "markdown",
   "id": "8ff1a213-cb88-4617-afc9-cf926d0f2746",
   "metadata": {},
   "source": [
    "### Q10. Explain the difference between covariance and correlation. How are these measures used in statistical analysis?\n",
    "\n",
    "**Covariance**:\n",
    "- **Definition**: A measure of how two variables change together. It indicates the direction of the linear relationship between variables.\n",
    "- **Formula**: \\(\\text{Cov}(X, Y) = \\frac{\\sum{(x - \\bar{x})(y - \\bar{y})}}{n}\\)\n",
    "- **Usage**: Provides information on the direction of the relationship but not the strength or scale of the relationship.\n",
    "\n",
    "**Correlation**:\n",
    "- **Definition**: A standardized measure of the strength and direction of the linear relationship between two variables.\n",
    "- **Formula**: \\(\\text{Correlation} = \\frac{\\text{Cov}(X, Y)}{\\sigma_X \\sigma_Y}\\)\n",
    "- **Usage**: Provides a value between -1 and 1, where -1 indicates a perfect negative relationship, 1 indicates a perfect positive relationship, and 0 indicates no linear relationship."
   ]
  },
  {
   "cell_type": "markdown",
   "id": "10714db8-d623-4598-b33e-e06eddfa2029",
   "metadata": {},
   "source": []
  },
  {
   "cell_type": "markdown",
   "id": "49665766-3041-4386-aa9b-d00de1b689c4",
   "metadata": {},
   "source": [
    "### Q11. What is the formula for calculating the sample mean? Provide an example calculation for a dataset.\n",
    "\n",
    "**Formula**: \n",
    "\\[\n",
    "\\text{Sample Mean} = \\frac{\\sum{x}}{n}\n",
    "\\]\n",
    "where \\( \\sum{x} \\) is the sum of all sample data points, and \\( n \\) is the number of data points.\n",
    "\n",
    "**Example Calculation**:\n",
    "For the dataset [4, 8, 6, 5, 7]:\n",
    "\\[\n",
    "\\text{Sample Mean} = \\frac{4 + 8 + 6 + 5 + 7}{5} = \\frac{30}{5} = 6\n",
    "\\]"
   ]
  },
  {
   "cell_type": "markdown",
   "id": "adbc46e9-5517-4915-8d81-bf69ddb2bf33",
   "metadata": {},
   "source": []
  },
  {
   "cell_type": "markdown",
   "id": "6fb7782e-ae24-4cef-8da0-69d02c937da9",
   "metadata": {},
   "source": [
    "### Q12. For a normal distribution data what is the relationship between its measure of central tendency?\n",
    "\n",
    "In a normal distribution, the mean, median, and mode are all equal and located at the center of the distribution. This symmetry indicates that the data is evenly distributed around the central value."
   ]
  },
  {
   "cell_type": "markdown",
   "id": "e28bcb01-0bd5-4f88-96a2-092343f58270",
   "metadata": {},
   "source": []
  },
  {
   "cell_type": "markdown",
   "id": "ce430c22-a8bb-4c54-8944-7824d52d66bb",
   "metadata": {},
   "source": [
    "### Q13. How is covariance different from correlation?\n",
    "\n",
    "**Covariance**:\n",
    "- Measures the degree to which two variables change together.\n",
    "- Its magnitude depends on the units of the variables, making it difficult to interpret on its own.\n",
    "\n",
    "**Correlation**:\n",
    "- Measures the strength and direction of the linear relationship between two variables.\n",
    "- It is standardized, ranging from -1 to 1, and is unitless, making it easier to interpret."
   ]
  },
  {
   "cell_type": "markdown",
   "id": "271b9053-7af4-458e-b4bb-14a44ce6e69f",
   "metadata": {},
   "source": []
  },
  {
   "cell_type": "markdown",
   "id": "7f1a4392-1890-4a96-aad8-ce92d87dcb8b",
   "metadata": {},
   "source": [
    "### Q14. How do outliers affect measures of central tendency and dispersion? Provide an example.\n",
    "\n",
    "**Outliers**:\n",
    "- **Mean**: Outliers can significantly affect the mean, as they can skew the average value.\n",
    "- **Median**: The median is less affected by outliers, as it depends on the middle value(s) of the ordered dataset.\n",
    "- **Variance and Standard Deviation**: Outliers can greatly increase the variance and standard deviation, reflecting an increased spread in the data.\n",
    "\n",
    "**Example**:\n",
    "For the dataset [10, 12, 14, 16, 100], the mean is 30.4, which is heavily influenced by the outlier 100. The median, however, is 14, which is more representative of the central tendency of the bulk of the data. The standard deviation will be significantly higher due to the presence of the outlier."
   ]
  },
  {
   "cell_type": "code",
   "execution_count": null,
   "id": "362b50c9-97f8-4e31-b763-5d639a4455b0",
   "metadata": {},
   "outputs": [],
   "source": []
  },
  {
   "cell_type": "code",
   "execution_count": null,
   "id": "6291898d-1807-4bce-b882-512c9da87c5c",
   "metadata": {},
   "outputs": [],
   "source": []
  }
 ],
 "metadata": {
  "kernelspec": {
   "display_name": "Python 3 (ipykernel)",
   "language": "python",
   "name": "python3"
  },
  "language_info": {
   "codemirror_mode": {
    "name": "ipython",
    "version": 3
   },
   "file_extension": ".py",
   "mimetype": "text/x-python",
   "name": "python",
   "nbconvert_exporter": "python",
   "pygments_lexer": "ipython3",
   "version": "3.12.5"
  }
 },
 "nbformat": 4,
 "nbformat_minor": 5
}
